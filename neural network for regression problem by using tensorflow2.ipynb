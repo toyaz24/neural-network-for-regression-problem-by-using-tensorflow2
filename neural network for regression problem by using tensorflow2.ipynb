{
 "cells": [
  {
   "cell_type": "code",
   "execution_count": 33,
   "metadata": {},
   "outputs": [],
   "source": [
    "#cross entropy loss function is used for classification porblem\n",
    "#california housing dataset\n",
    "import pandas as pd\n",
    "from sklearn.datasets import fetch_california_housing\n",
    "from sklearn.model_selection import train_test_split\n",
    "from sklearn.preprocessing import StandardScaler\n",
    "\n",
    "housing = fetch_california_housing()\n",
    "x=pd.DataFrame(housing.data, columns =housing.feature_names)\n",
    "y=pd.DataFrame(housing.target, columns =['target'])"
   ]
  },
  {
   "cell_type": "code",
   "execution_count": 7,
   "metadata": {},
   "outputs": [],
   "source": [
    "#downloading the housing dataset\n"
   ]
  },
  {
   "cell_type": "code",
   "execution_count": 8,
   "metadata": {},
   "outputs": [
    {
     "data": {
      "text/html": [
       "<div>\n",
       "<style scoped>\n",
       "    .dataframe tbody tr th:only-of-type {\n",
       "        vertical-align: middle;\n",
       "    }\n",
       "\n",
       "    .dataframe tbody tr th {\n",
       "        vertical-align: top;\n",
       "    }\n",
       "\n",
       "    .dataframe thead th {\n",
       "        text-align: right;\n",
       "    }\n",
       "</style>\n",
       "<table border=\"1\" class=\"dataframe\">\n",
       "  <thead>\n",
       "    <tr style=\"text-align: right;\">\n",
       "      <th></th>\n",
       "      <th>MedInc</th>\n",
       "      <th>HouseAge</th>\n",
       "      <th>AveRooms</th>\n",
       "      <th>AveBedrms</th>\n",
       "      <th>Population</th>\n",
       "      <th>AveOccup</th>\n",
       "      <th>Latitude</th>\n",
       "      <th>Longitude</th>\n",
       "    </tr>\n",
       "  </thead>\n",
       "  <tbody>\n",
       "    <tr>\n",
       "      <th>0</th>\n",
       "      <td>8.3252</td>\n",
       "      <td>41.0</td>\n",
       "      <td>6.984127</td>\n",
       "      <td>1.023810</td>\n",
       "      <td>322.0</td>\n",
       "      <td>2.555556</td>\n",
       "      <td>37.88</td>\n",
       "      <td>-122.23</td>\n",
       "    </tr>\n",
       "    <tr>\n",
       "      <th>1</th>\n",
       "      <td>8.3014</td>\n",
       "      <td>21.0</td>\n",
       "      <td>6.238137</td>\n",
       "      <td>0.971880</td>\n",
       "      <td>2401.0</td>\n",
       "      <td>2.109842</td>\n",
       "      <td>37.86</td>\n",
       "      <td>-122.22</td>\n",
       "    </tr>\n",
       "    <tr>\n",
       "      <th>2</th>\n",
       "      <td>7.2574</td>\n",
       "      <td>52.0</td>\n",
       "      <td>8.288136</td>\n",
       "      <td>1.073446</td>\n",
       "      <td>496.0</td>\n",
       "      <td>2.802260</td>\n",
       "      <td>37.85</td>\n",
       "      <td>-122.24</td>\n",
       "    </tr>\n",
       "    <tr>\n",
       "      <th>3</th>\n",
       "      <td>5.6431</td>\n",
       "      <td>52.0</td>\n",
       "      <td>5.817352</td>\n",
       "      <td>1.073059</td>\n",
       "      <td>558.0</td>\n",
       "      <td>2.547945</td>\n",
       "      <td>37.85</td>\n",
       "      <td>-122.25</td>\n",
       "    </tr>\n",
       "    <tr>\n",
       "      <th>4</th>\n",
       "      <td>3.8462</td>\n",
       "      <td>52.0</td>\n",
       "      <td>6.281853</td>\n",
       "      <td>1.081081</td>\n",
       "      <td>565.0</td>\n",
       "      <td>2.181467</td>\n",
       "      <td>37.85</td>\n",
       "      <td>-122.25</td>\n",
       "    </tr>\n",
       "  </tbody>\n",
       "</table>\n",
       "</div>"
      ],
      "text/plain": [
       "   MedInc  HouseAge  AveRooms  AveBedrms  Population  AveOccup  Latitude  \\\n",
       "0  8.3252      41.0  6.984127   1.023810       322.0  2.555556     37.88   \n",
       "1  8.3014      21.0  6.238137   0.971880      2401.0  2.109842     37.86   \n",
       "2  7.2574      52.0  8.288136   1.073446       496.0  2.802260     37.85   \n",
       "3  5.6431      52.0  5.817352   1.073059       558.0  2.547945     37.85   \n",
       "4  3.8462      52.0  6.281853   1.081081       565.0  2.181467     37.85   \n",
       "\n",
       "   Longitude  \n",
       "0    -122.23  \n",
       "1    -122.22  \n",
       "2    -122.24  \n",
       "3    -122.25  \n",
       "4    -122.25  "
      ]
     },
     "execution_count": 8,
     "metadata": {},
     "output_type": "execute_result"
    }
   ],
   "source": [
    "x.head()"
   ]
  },
  {
   "cell_type": "code",
   "execution_count": 9,
   "metadata": {},
   "outputs": [
    {
     "data": {
      "text/html": [
       "<div>\n",
       "<style scoped>\n",
       "    .dataframe tbody tr th:only-of-type {\n",
       "        vertical-align: middle;\n",
       "    }\n",
       "\n",
       "    .dataframe tbody tr th {\n",
       "        vertical-align: top;\n",
       "    }\n",
       "\n",
       "    .dataframe thead th {\n",
       "        text-align: right;\n",
       "    }\n",
       "</style>\n",
       "<table border=\"1\" class=\"dataframe\">\n",
       "  <thead>\n",
       "    <tr style=\"text-align: right;\">\n",
       "      <th></th>\n",
       "      <th>target</th>\n",
       "    </tr>\n",
       "  </thead>\n",
       "  <tbody>\n",
       "    <tr>\n",
       "      <th>0</th>\n",
       "      <td>4.526</td>\n",
       "    </tr>\n",
       "    <tr>\n",
       "      <th>1</th>\n",
       "      <td>3.585</td>\n",
       "    </tr>\n",
       "    <tr>\n",
       "      <th>2</th>\n",
       "      <td>3.521</td>\n",
       "    </tr>\n",
       "    <tr>\n",
       "      <th>3</th>\n",
       "      <td>3.413</td>\n",
       "    </tr>\n",
       "    <tr>\n",
       "      <th>4</th>\n",
       "      <td>3.422</td>\n",
       "    </tr>\n",
       "  </tbody>\n",
       "</table>\n",
       "</div>"
      ],
      "text/plain": [
       "   target\n",
       "0   4.526\n",
       "1   3.585\n",
       "2   3.521\n",
       "3   3.413\n",
       "4   3.422"
      ]
     },
     "execution_count": 9,
     "metadata": {},
     "output_type": "execute_result"
    }
   ],
   "source": [
    "y.head()"
   ]
  },
  {
   "cell_type": "code",
   "execution_count": 31,
   "metadata": {},
   "outputs": [],
   "source": [
    "from sklearn.model_selection import train_test_split\n",
    "x_train_full,x_test,y_train_full,y_test= train_test_split(x,y,random_state=0)\n",
    "x_train,x_valid,y_train,y_valid = train_test_split(x_train_full,y_train_full)"
   ]
  },
  {
   "cell_type": "code",
   "execution_count": 32,
   "metadata": {},
   "outputs": [],
   "source": [
    "scaler=StandardScaler()\n",
    "x_train =scaler.fit_transform(x_train)\n",
    "x_valid =scaler.transform(x_valid)\n",
    "x_test =scaler.transform(x_test)"
   ]
  },
  {
   "cell_type": "code",
   "execution_count": 12,
   "metadata": {},
   "outputs": [
    {
     "data": {
      "text/html": [
       "<div>\n",
       "<style scoped>\n",
       "    .dataframe tbody tr th:only-of-type {\n",
       "        vertical-align: middle;\n",
       "    }\n",
       "\n",
       "    .dataframe tbody tr th {\n",
       "        vertical-align: top;\n",
       "    }\n",
       "\n",
       "    .dataframe thead th {\n",
       "        text-align: right;\n",
       "    }\n",
       "</style>\n",
       "<table border=\"1\" class=\"dataframe\">\n",
       "  <thead>\n",
       "    <tr style=\"text-align: right;\">\n",
       "      <th></th>\n",
       "      <th>MedInc</th>\n",
       "      <th>HouseAge</th>\n",
       "      <th>AveRooms</th>\n",
       "      <th>AveBedrms</th>\n",
       "      <th>Population</th>\n",
       "      <th>AveOccup</th>\n",
       "      <th>Latitude</th>\n",
       "      <th>Longitude</th>\n",
       "    </tr>\n",
       "  </thead>\n",
       "  <tbody>\n",
       "    <tr>\n",
       "      <th>0</th>\n",
       "      <td>8.3252</td>\n",
       "      <td>41.0</td>\n",
       "      <td>6.984127</td>\n",
       "      <td>1.023810</td>\n",
       "      <td>322.0</td>\n",
       "      <td>2.555556</td>\n",
       "      <td>37.88</td>\n",
       "      <td>-122.23</td>\n",
       "    </tr>\n",
       "    <tr>\n",
       "      <th>1</th>\n",
       "      <td>8.3014</td>\n",
       "      <td>21.0</td>\n",
       "      <td>6.238137</td>\n",
       "      <td>0.971880</td>\n",
       "      <td>2401.0</td>\n",
       "      <td>2.109842</td>\n",
       "      <td>37.86</td>\n",
       "      <td>-122.22</td>\n",
       "    </tr>\n",
       "    <tr>\n",
       "      <th>2</th>\n",
       "      <td>7.2574</td>\n",
       "      <td>52.0</td>\n",
       "      <td>8.288136</td>\n",
       "      <td>1.073446</td>\n",
       "      <td>496.0</td>\n",
       "      <td>2.802260</td>\n",
       "      <td>37.85</td>\n",
       "      <td>-122.24</td>\n",
       "    </tr>\n",
       "    <tr>\n",
       "      <th>3</th>\n",
       "      <td>5.6431</td>\n",
       "      <td>52.0</td>\n",
       "      <td>5.817352</td>\n",
       "      <td>1.073059</td>\n",
       "      <td>558.0</td>\n",
       "      <td>2.547945</td>\n",
       "      <td>37.85</td>\n",
       "      <td>-122.25</td>\n",
       "    </tr>\n",
       "    <tr>\n",
       "      <th>4</th>\n",
       "      <td>3.8462</td>\n",
       "      <td>52.0</td>\n",
       "      <td>6.281853</td>\n",
       "      <td>1.081081</td>\n",
       "      <td>565.0</td>\n",
       "      <td>2.181467</td>\n",
       "      <td>37.85</td>\n",
       "      <td>-122.25</td>\n",
       "    </tr>\n",
       "    <tr>\n",
       "      <th>...</th>\n",
       "      <td>...</td>\n",
       "      <td>...</td>\n",
       "      <td>...</td>\n",
       "      <td>...</td>\n",
       "      <td>...</td>\n",
       "      <td>...</td>\n",
       "      <td>...</td>\n",
       "      <td>...</td>\n",
       "    </tr>\n",
       "    <tr>\n",
       "      <th>20635</th>\n",
       "      <td>1.5603</td>\n",
       "      <td>25.0</td>\n",
       "      <td>5.045455</td>\n",
       "      <td>1.133333</td>\n",
       "      <td>845.0</td>\n",
       "      <td>2.560606</td>\n",
       "      <td>39.48</td>\n",
       "      <td>-121.09</td>\n",
       "    </tr>\n",
       "    <tr>\n",
       "      <th>20636</th>\n",
       "      <td>2.5568</td>\n",
       "      <td>18.0</td>\n",
       "      <td>6.114035</td>\n",
       "      <td>1.315789</td>\n",
       "      <td>356.0</td>\n",
       "      <td>3.122807</td>\n",
       "      <td>39.49</td>\n",
       "      <td>-121.21</td>\n",
       "    </tr>\n",
       "    <tr>\n",
       "      <th>20637</th>\n",
       "      <td>1.7000</td>\n",
       "      <td>17.0</td>\n",
       "      <td>5.205543</td>\n",
       "      <td>1.120092</td>\n",
       "      <td>1007.0</td>\n",
       "      <td>2.325635</td>\n",
       "      <td>39.43</td>\n",
       "      <td>-121.22</td>\n",
       "    </tr>\n",
       "    <tr>\n",
       "      <th>20638</th>\n",
       "      <td>1.8672</td>\n",
       "      <td>18.0</td>\n",
       "      <td>5.329513</td>\n",
       "      <td>1.171920</td>\n",
       "      <td>741.0</td>\n",
       "      <td>2.123209</td>\n",
       "      <td>39.43</td>\n",
       "      <td>-121.32</td>\n",
       "    </tr>\n",
       "    <tr>\n",
       "      <th>20639</th>\n",
       "      <td>2.3886</td>\n",
       "      <td>16.0</td>\n",
       "      <td>5.254717</td>\n",
       "      <td>1.162264</td>\n",
       "      <td>1387.0</td>\n",
       "      <td>2.616981</td>\n",
       "      <td>39.37</td>\n",
       "      <td>-121.24</td>\n",
       "    </tr>\n",
       "  </tbody>\n",
       "</table>\n",
       "<p>20640 rows × 8 columns</p>\n",
       "</div>"
      ],
      "text/plain": [
       "       MedInc  HouseAge  AveRooms  AveBedrms  Population  AveOccup  Latitude  \\\n",
       "0      8.3252      41.0  6.984127   1.023810       322.0  2.555556     37.88   \n",
       "1      8.3014      21.0  6.238137   0.971880      2401.0  2.109842     37.86   \n",
       "2      7.2574      52.0  8.288136   1.073446       496.0  2.802260     37.85   \n",
       "3      5.6431      52.0  5.817352   1.073059       558.0  2.547945     37.85   \n",
       "4      3.8462      52.0  6.281853   1.081081       565.0  2.181467     37.85   \n",
       "...       ...       ...       ...        ...         ...       ...       ...   \n",
       "20635  1.5603      25.0  5.045455   1.133333       845.0  2.560606     39.48   \n",
       "20636  2.5568      18.0  6.114035   1.315789       356.0  3.122807     39.49   \n",
       "20637  1.7000      17.0  5.205543   1.120092      1007.0  2.325635     39.43   \n",
       "20638  1.8672      18.0  5.329513   1.171920       741.0  2.123209     39.43   \n",
       "20639  2.3886      16.0  5.254717   1.162264      1387.0  2.616981     39.37   \n",
       "\n",
       "       Longitude  \n",
       "0        -122.23  \n",
       "1        -122.22  \n",
       "2        -122.24  \n",
       "3        -122.25  \n",
       "4        -122.25  \n",
       "...          ...  \n",
       "20635    -121.09  \n",
       "20636    -121.21  \n",
       "20637    -121.22  \n",
       "20638    -121.32  \n",
       "20639    -121.24  \n",
       "\n",
       "[20640 rows x 8 columns]"
      ]
     },
     "execution_count": 12,
     "metadata": {},
     "output_type": "execute_result"
    }
   ],
   "source": [
    "x"
   ]
  },
  {
   "cell_type": "code",
   "execution_count": 13,
   "metadata": {},
   "outputs": [
    {
     "data": {
      "text/html": [
       "<div>\n",
       "<style scoped>\n",
       "    .dataframe tbody tr th:only-of-type {\n",
       "        vertical-align: middle;\n",
       "    }\n",
       "\n",
       "    .dataframe tbody tr th {\n",
       "        vertical-align: top;\n",
       "    }\n",
       "\n",
       "    .dataframe thead th {\n",
       "        text-align: right;\n",
       "    }\n",
       "</style>\n",
       "<table border=\"1\" class=\"dataframe\">\n",
       "  <thead>\n",
       "    <tr style=\"text-align: right;\">\n",
       "      <th></th>\n",
       "      <th>target</th>\n",
       "    </tr>\n",
       "  </thead>\n",
       "  <tbody>\n",
       "    <tr>\n",
       "      <th>0</th>\n",
       "      <td>4.526</td>\n",
       "    </tr>\n",
       "    <tr>\n",
       "      <th>1</th>\n",
       "      <td>3.585</td>\n",
       "    </tr>\n",
       "    <tr>\n",
       "      <th>2</th>\n",
       "      <td>3.521</td>\n",
       "    </tr>\n",
       "    <tr>\n",
       "      <th>3</th>\n",
       "      <td>3.413</td>\n",
       "    </tr>\n",
       "    <tr>\n",
       "      <th>4</th>\n",
       "      <td>3.422</td>\n",
       "    </tr>\n",
       "    <tr>\n",
       "      <th>...</th>\n",
       "      <td>...</td>\n",
       "    </tr>\n",
       "    <tr>\n",
       "      <th>20635</th>\n",
       "      <td>0.781</td>\n",
       "    </tr>\n",
       "    <tr>\n",
       "      <th>20636</th>\n",
       "      <td>0.771</td>\n",
       "    </tr>\n",
       "    <tr>\n",
       "      <th>20637</th>\n",
       "      <td>0.923</td>\n",
       "    </tr>\n",
       "    <tr>\n",
       "      <th>20638</th>\n",
       "      <td>0.847</td>\n",
       "    </tr>\n",
       "    <tr>\n",
       "      <th>20639</th>\n",
       "      <td>0.894</td>\n",
       "    </tr>\n",
       "  </tbody>\n",
       "</table>\n",
       "<p>20640 rows × 1 columns</p>\n",
       "</div>"
      ],
      "text/plain": [
       "       target\n",
       "0       4.526\n",
       "1       3.585\n",
       "2       3.521\n",
       "3       3.413\n",
       "4       3.422\n",
       "...       ...\n",
       "20635   0.781\n",
       "20636   0.771\n",
       "20637   0.923\n",
       "20638   0.847\n",
       "20639   0.894\n",
       "\n",
       "[20640 rows x 1 columns]"
      ]
     },
     "execution_count": 13,
     "metadata": {},
     "output_type": "execute_result"
    }
   ],
   "source": [
    "y # this is the target  which we have o regress in this regression problem"
   ]
  },
  {
   "cell_type": "code",
   "execution_count": 14,
   "metadata": {},
   "outputs": [
    {
     "data": {
      "text/plain": [
       "(8,)"
      ]
     },
     "execution_count": 14,
     "metadata": {},
     "output_type": "execute_result"
    }
   ],
   "source": [
    "x_train.shape[1:]"
   ]
  },
  {
   "cell_type": "code",
   "execution_count": 15,
   "metadata": {},
   "outputs": [
    {
     "data": {
      "text/plain": [
       "array([[-1.01970926,  1.8589316 , -0.27143165, ..., -0.01432218,\n",
       "        -0.76489041,  1.10887518],\n",
       "       [-0.6623669 ,  0.26694267, -0.32593241, ...,  0.08497315,\n",
       "        -0.69473919,  0.82457542],\n",
       "       [-0.18657989, -1.32504626,  3.32441472, ..., -0.04892439,\n",
       "         1.02162737,  0.24101275],\n",
       "       ...,\n",
       "       [-0.64973492,  0.02814433, -0.11669327, ...,  0.06146809,\n",
       "        -0.3065691 , -0.44230422],\n",
       "       [-0.05677175, -0.44945234, -0.4566713 , ...,  0.50427728,\n",
       "        -0.88180912,  0.84452628],\n",
       "       [-0.24508869, -0.210654  , -0.07712209, ...,  0.09396869,\n",
       "         1.50333242, -1.22038777]])"
      ]
     },
     "execution_count": 15,
     "metadata": {},
     "output_type": "execute_result"
    }
   ],
   "source": [
    "x_train"
   ]
  },
  {
   "cell_type": "code",
   "execution_count": 27,
   "metadata": {},
   "outputs": [
    {
     "name": "stdout",
     "output_type": "stream",
     "text": [
      "Epoch 1/30\n",
      "363/363 [==============================] - 0s 1ms/step - loss: 0.8326 - val_loss: 0.5252\n",
      "Epoch 2/30\n",
      "363/363 [==============================] - 0s 919us/step - loss: 0.4688 - val_loss: 0.4326\n",
      "Epoch 3/30\n",
      "363/363 [==============================] - 0s 892us/step - loss: 0.4208 - val_loss: 0.4099\n",
      "Epoch 4/30\n",
      "363/363 [==============================] - 0s 873us/step - loss: 0.3941 - val_loss: 0.4446\n",
      "Epoch 5/30\n",
      "363/363 [==============================] - 0s 882us/step - loss: 0.3800 - val_loss: 0.3852\n",
      "Epoch 6/30\n",
      "363/363 [==============================] - 0s 897us/step - loss: 0.3746 - val_loss: 0.3750\n",
      "Epoch 7/30\n",
      "363/363 [==============================] - 0s 926us/step - loss: 0.3634 - val_loss: 0.3813\n",
      "Epoch 8/30\n",
      "363/363 [==============================] - 0s 934us/step - loss: 0.3588 - val_loss: 0.4036\n",
      "Epoch 9/30\n",
      "363/363 [==============================] - 0s 869us/step - loss: 0.3560 - val_loss: 0.3551\n",
      "Epoch 10/30\n",
      "363/363 [==============================] - 0s 889us/step - loss: 0.3508 - val_loss: 0.3552\n",
      "Epoch 11/30\n",
      "363/363 [==============================] - 0s 922us/step - loss: 0.3501 - val_loss: 0.3578\n",
      "Epoch 12/30\n",
      "363/363 [==============================] - 0s 932us/step - loss: 0.3487 - val_loss: 0.3478\n",
      "Epoch 13/30\n",
      "363/363 [==============================] - 0s 883us/step - loss: 0.3413 - val_loss: 0.3481\n",
      "Epoch 14/30\n",
      "363/363 [==============================] - 0s 893us/step - loss: 0.3437 - val_loss: 0.3461\n",
      "Epoch 15/30\n",
      "363/363 [==============================] - 0s 869us/step - loss: 0.3360 - val_loss: 0.3428\n",
      "Epoch 16/30\n",
      "363/363 [==============================] - 0s 900us/step - loss: 0.3348 - val_loss: 0.3693\n",
      "Epoch 17/30\n",
      "363/363 [==============================] - 0s 1ms/step - loss: 0.3305 - val_loss: 0.3450\n",
      "Epoch 18/30\n",
      "363/363 [==============================] - 0s 862us/step - loss: 0.3290 - val_loss: 0.3509\n",
      "Epoch 19/30\n",
      "363/363 [==============================] - 0s 872us/step - loss: 0.3272 - val_loss: 0.3504\n",
      "Epoch 20/30\n",
      "363/363 [==============================] - 0s 898us/step - loss: 0.3242 - val_loss: 0.3397\n",
      "Epoch 21/30\n",
      "363/363 [==============================] - 0s 892us/step - loss: 0.3186 - val_loss: 0.3287\n",
      "Epoch 22/30\n",
      "363/363 [==============================] - 0s 882us/step - loss: 0.3197 - val_loss: 0.3332\n",
      "Epoch 23/30\n",
      "363/363 [==============================] - 0s 870us/step - loss: 0.3150 - val_loss: 0.3256\n",
      "Epoch 24/30\n",
      "363/363 [==============================] - 0s 877us/step - loss: 0.3143 - val_loss: 0.3200\n",
      "Epoch 25/30\n",
      "363/363 [==============================] - 0s 878us/step - loss: 0.3094 - val_loss: 0.3262\n",
      "Epoch 26/30\n",
      "363/363 [==============================] - 0s 904us/step - loss: 0.3087 - val_loss: 0.3287\n",
      "Epoch 27/30\n",
      "363/363 [==============================] - 0s 880us/step - loss: 0.3082 - val_loss: 0.3328\n",
      "Epoch 28/30\n",
      "363/363 [==============================] - 0s 919us/step - loss: 0.3044 - val_loss: 0.3231\n",
      "Epoch 29/30\n",
      "363/363 [==============================] - 0s 917us/step - loss: 0.3030 - val_loss: 0.3230\n",
      "Epoch 30/30\n",
      "363/363 [==============================] - 0s 892us/step - loss: 0.3040 - val_loss: 0.4073\n"
     ]
    }
   ],
   "source": [
    "import tensorflow as tf\n",
    "\n",
    "model = tf.keras.models.Sequential([\n",
    "    tf.keras.layers.Dense(30,activation=\"relu\",input_shape =x_train.shape[1:]), # whenever we are creating network we have to define a share  of dtaata means input shape\n",
    "    tf.keras.layers.Dense(10,activation=\"relu\"),\n",
    "    tf.keras.layers.Dense(10,activation=\"relu\"),\n",
    "    tf.keras.layers.Dense(10,activation=\"relu\"),\n",
    "    tf.keras.layers.Dense(10,activation=\"relu\"),\n",
    "    tf.keras.layers.Dense(5,activation=\"relu\"),\n",
    "    tf.keras.layers.Dense(10,activation=\"relu\"),\n",
    "    tf.keras.layers.Dense(1)])\n",
    "\n",
    "model.compile(loss=\"mse\",optimizer=\"SGD\") # in regression problem we generally use \"rmse\" or \"mse\" loss function) \n",
    "history =model.fit(x_train,y_train,epochs=30,validation_data=(x_valid, y_valid))"
   ]
  },
  {
   "cell_type": "code",
   "execution_count": 28,
   "metadata": {},
   "outputs": [
    {
     "data": {
      "image/png": "[encoded data removed]",
      "text/plain": [
       "<Figure size 576x360 with 1 Axes>"
      ]
     },
     "metadata": {
      "needs_background": "light"
     },
     "output_type": "display_data"
    }
   ],
   "source": [
    "import matplotlib.pyplot as plt\n",
    "pd.DataFrame(history.history).plot(figsize =(8,5))\n",
    "plt.grid(True)"
   ]
  },
  {
   "cell_type": "code",
   "execution_count": 29,
   "metadata": {},
   "outputs": [
    {
     "name": "stdout",
     "output_type": "stream",
     "text": [
      "162/162 [==============================] - 0s 581us/step - loss: 0.2969\n"
     ]
    }
   ],
   "source": [
    "mse_test =Model.evaluate(x_test, y_test)\n",
    "x_new = x_test[:3]\n",
    "y_pred =Model.predict(x_new)"
   ]
  },
  {
   "cell_type": "code",
   "execution_count": 30,
   "metadata": {},
   "outputs": [
    {
     "data": {
      "text/plain": [
       "array([[1.338784 ],\n",
       "       [2.479331 ],\n",
       "       [1.5958402]], dtype=float32)"
      ]
     },
     "execution_count": 30,
     "metadata": {},
     "output_type": "execute_result"
    }
   ],
   "source": [
    "y_pred"
   ]
  },
  {
   "cell_type": "code",
   "execution_count": 34,
   "metadata": {},
   "outputs": [
    {
     "name": "stdout",
     "output_type": "stream",
     "text": [
      "Epoch 1/10\n",
      "363/363 [==============================] - 1s 2ms/step - loss: 0.2992 - val_loss: 0.2903\n",
      "Epoch 2/10\n",
      "363/363 [==============================] - 0s 1ms/step - loss: 0.2942 - val_loss: 0.2896\n",
      "Epoch 3/10\n",
      "363/363 [==============================] - 0s 925us/step - loss: 0.2932 - val_loss: 0.2904\n",
      "Epoch 4/10\n",
      "363/363 [==============================] - 0s 922us/step - loss: 0.2930 - val_loss: 0.2902\n",
      "Epoch 5/10\n",
      "363/363 [==============================] - 0s 879us/step - loss: 0.2918 - val_loss: 0.2901\n",
      "Epoch 6/10\n",
      "363/363 [==============================] - 0s 873us/step - loss: 0.2916 - val_loss: 0.2901\n",
      "Epoch 7/10\n",
      "363/363 [==============================] - 0s 869us/step - loss: 0.2912 - val_loss: 0.2913\n",
      "Epoch 8/10\n",
      "363/363 [==============================] - 0s 925us/step - loss: 0.2907 - val_loss: 0.2902\n",
      "Epoch 9/10\n",
      "363/363 [==============================] - 0s 852us/step - loss: 0.2903 - val_loss: 0.2905\n",
      "Epoch 10/10\n",
      "363/363 [==============================] - 0s 950us/step - loss: 0.2898 - val_loss: 0.2910\n",
      "162/162 [==============================] - 0s 613us/step - loss: 0.3049\n"
     ]
    }
   ],
   "source": [
    "model.compile(loss=\"mse\",optimizer=tf.keras.optimizers.SGD(lr=1e-3)) # we are managing here lerning rate\n",
    "checkpoint_cb = tf.keras.callbacks.ModelCheckpoint(\"my_keras_model.h5\",save_best_only =True) #we are calling here chevckpoint to save the model and it wll save best model\n",
    "\n",
    "history =model.fit(x_train,y_train,epochs=10, validation_data=(x_valid,y_valid), callbacks=[checkpoint_cb])\n",
    "model =tf.keras.models.load_model(\"my_keras_model.h5\") #rollback to best model\n",
    "mse_test = model.evaluate(x_test,y_test)"
   ]
  },
  {
   "cell_type": "code",
   "execution_count": 38,
   "metadata": {},
   "outputs": [
    {
     "name": "stdout",
     "output_type": "stream",
     "text": [
      "Epoch 1/100\n",
      "  1/363 [..............................] - ETA: 0s - loss: 0.3210WARNING:tensorflow:Callbacks method `on_train_batch_end` is slow compared to the batch time (batch time: 0.0000s vs `on_train_batch_end` time: 0.0010s). Check your callbacks.\n",
      "363/363 [==============================] - 0s 1ms/step - loss: 0.2937 - val_loss: 0.2896\n",
      "Epoch 2/100\n",
      "363/363 [==============================] - 0s 1ms/step - loss: 0.2928 - val_loss: 0.2893\n",
      "Epoch 3/100\n",
      "363/363 [==============================] - 0s 1ms/step - loss: 0.2922 - val_loss: 0.2893\n",
      "Epoch 4/100\n",
      "363/363 [==============================] - 0s 928us/step - loss: 0.2915 - val_loss: 0.2914\n",
      "Epoch 5/100\n",
      "363/363 [==============================] - 0s 882us/step - loss: 0.2912 - val_loss: 0.2895\n",
      "Epoch 6/100\n",
      "363/363 [==============================] - 0s 856us/step - loss: 0.2907 - val_loss: 0.2899\n",
      "Epoch 7/100\n",
      "363/363 [==============================] - 0s 886us/step - loss: 0.2900 - val_loss: 0.2915\n",
      "Epoch 8/100\n",
      "363/363 [==============================] - 0s 917us/step - loss: 0.2902 - val_loss: 0.2908\n",
      "Epoch 9/100\n",
      "363/363 [==============================] - 0s 925us/step - loss: 0.2898 - val_loss: 0.2911\n",
      "Epoch 10/100\n",
      "363/363 [==============================] - 0s 911us/step - loss: 0.2892 - val_loss: 0.2911\n",
      "Epoch 11/100\n",
      "363/363 [==============================] - 0s 919us/step - loss: 0.2893 - val_loss: 0.2902\n",
      "Epoch 12/100\n",
      "363/363 [==============================] - 0s 920us/step - loss: 0.2888 - val_loss: 0.2895\n",
      "Epoch 13/100\n",
      "363/363 [==============================] - 0s 874us/step - loss: 0.2884 - val_loss: 0.2909\n"
     ]
    }
   ],
   "source": [
    "#now we will do early stopping as per the graph where our model wont learn anything at that stage our model will stop traininig\n",
    "model.compile(loss=\"mse\",optimizer =tf.keras.optimizers.SGD(lr=1e-3))\n",
    "early_stopping_cb =tf.keras.callbacks.EarlyStopping(patience=10,restore_best_weights =True)\n",
    "history =model.fit(x_train,y_train,epochs=100,validation_data =(x_valid,y_valid),callbacks=[checkpoint_cb,early_stopping_cb])\n",
    "mse_test = model.evaluate=(x_test,y_test) # so here in output after 313 epochs our model has stopped learning  so it stopped"
   ]
  },
  {
   "cell_type": "code",
   "execution_count": 39,
   "metadata": {},
   "outputs": [
    {
     "data": {
      "image/png": "[encoded data removed]",
      "text/plain": [
       "<Figure size 576x360 with 1 Axes>"
      ]
     },
     "metadata": {
      "needs_background": "light"
     },
     "output_type": "display_data"
    }
   ],
   "source": [
    "import matplotlib.pyplot as plt\n",
    "pd.DataFrame(history.history).plot(figsize=(8,5))\n",
    "plt.grid(True)"
   ]
  },
  {
   "cell_type": "code",
   "execution_count": null,
   "metadata": {},
   "outputs": [],
   "source": []
  }
 ],
 "metadata": {
  "kernelspec": {
   "display_name": "Python 3",
   "language": "python",
   "name": "python3"
  },
  "language_info": {
   "codemirror_mode": {
    "name": "ipython",
    "version": 3
   },
   "file_extension": ".py",
   "mimetype": "text/x-python",
   "name": "python",
   "nbconvert_exporter": "python",
   "pygments_lexer": "ipython3",
   "version": "3.8.3"
  }
 },
 "nbformat": 4,
 "nbformat_minor": 4
}
